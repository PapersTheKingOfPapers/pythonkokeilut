{
 "cells": [
  {
   "metadata": {},
   "cell_type": "code",
   "outputs": [],
   "execution_count": null,
   "source": [
    "author = \"Eetu Määttä\"\n",
    "studentNumber = \"2420629\""
   ],
   "id": "1cbb37e36a07d424"
  },
  {
   "cell_type": "code",
   "id": "initial_id",
   "metadata": {
    "collapsed": true,
    "ExecuteTime": {
     "end_time": "2025-02-23T19:20:11.462748Z",
     "start_time": "2025-02-23T19:20:10.025923Z"
    }
   },
   "source": [
    "import numpy as np\n",
    "import numpy.linalg as la\n",
    "import sympy as sp\n",
    "import operator\n",
    "\n",
    "x, y, z = sp.symbols('x, y, z')"
   ],
   "outputs": [],
   "execution_count": 2
  },
  {
   "metadata": {
    "ExecuteTime": {
     "end_time": "2025-02-23T20:07:13.551192Z",
     "start_time": "2025-02-23T20:07:13.526429Z"
    }
   },
   "cell_type": "code",
   "source": [
    "#Functions\n",
    "def matrix_solve(a,b):\n",
    "    equations = []\n",
    "\n",
    "    for i in range(a.shape[0]):\n",
    "        for j in range(a.shape[1]):\n",
    "            if isinstance(a[i,j], str):\n",
    "                expr = sp.sympify(a[i, j])\n",
    "                equations.append(sp.Eq(expr, b[i,j]))\n",
    "        \n",
    "    solution = sp.solve(equations, (x,y))\n",
    "    if not solution:\n",
    "        return 'Matrixes do not Equal, values cannot be assigned.'\n",
    "    else:\n",
    "        return solution\n",
    "\n",
    "# Too lazy to rename the function, not about determinant anymore.\n",
    "def determinant_matrix_solve(expression,i):\n",
    "    A, B = sp.linear_eq_to_matrix(expression, i)\n",
    "    C = sp.solve(expression,i)\n",
    "    if not C:\n",
    "        if not sp.linsolve((A,B),i):\n",
    "            return \"No solutions.\"\n",
    "        else:\n",
    "            sp.linsolve((A,B),i)\n",
    "    else:\n",
    "        return C\n",
    "        \n",
    "    \n",
    "def create_square_nparray(arg, size):\n",
    "    arr = []\n",
    "    \n",
    "    for i in range(size):\n",
    "        arr_row = []\n",
    "        for j in range(size):\n",
    "            arr_row.append(arg(i,j))\n",
    "        arr.append(arr_row)\n",
    "        \n",
    "    return np.array(arr)\n",
    "        "
   ],
   "id": "24a9b470317b3dd0",
   "outputs": [],
   "execution_count": 61
  },
  {
   "metadata": {
    "ExecuteTime": {
     "end_time": "2025-02-23T19:30:38.823517Z",
     "start_time": "2025-02-23T19:30:38.808340Z"
    }
   },
   "cell_type": "code",
   "source": [
    "#5.1.1 - 1\n",
    "\n",
    "A = np.array([['x+y', 5],[-1, 'x-y']])\n",
    "B = np.array([[3, 2],[-3, 1]])\n",
    "C = np.array([[3, 5],[-1, 1]])\n",
    "\n",
    "# (a\n",
    "print(f'(A) A=B Values: ', matrix_solve(A,B))\n",
    "\n",
    "# (b\n",
    "print(f'(B) A=C Values: ', matrix_solve(A,C))"
   ],
   "id": "e1d62d1e8a3b5714",
   "outputs": [
    {
     "name": "stdout",
     "output_type": "stream",
     "text": [
      "(A) A=B Values:  Matrixes do not Equal, values cannot be assigned.\n",
      "(B) A=C Values:  {x: 2, y: 1}\n"
     ]
    }
   ],
   "execution_count": 17
  },
  {
   "metadata": {
    "ExecuteTime": {
     "end_time": "2025-02-23T19:20:33.303848Z",
     "start_time": "2025-02-23T19:20:33.282511Z"
    }
   },
   "cell_type": "code",
   "source": [
    "#5.1.1 - 2\n",
    "\n",
    "#Manually Written\n",
    "A = np.array([[1-1, 1-2, 1-3],[2-1, 2-2, 2-3],[3-1, 3-2, 3-3]])\n",
    "print('Hand Written:')\n",
    "print(A)\n",
    "\n",
    "#Func\n",
    "print('Function Generated:')\n",
    "print(create_square_nparray(operator.sub, 3))"
   ],
   "id": "432462ed54aa2698",
   "outputs": [
    {
     "name": "stdout",
     "output_type": "stream",
     "text": [
      "Hand Written:\n",
      "[[ 0 -1 -2]\n",
      " [ 1  0 -1]\n",
      " [ 2  1  0]]\n",
      "Function Generated:\n",
      "[[ 0 -1 -2]\n",
      " [ 1  0 -1]\n",
      " [ 2  1  0]]\n"
     ]
    }
   ],
   "execution_count": 5
  },
  {
   "metadata": {
    "ExecuteTime": {
     "end_time": "2025-02-23T19:20:35.455561Z",
     "start_time": "2025-02-23T19:20:35.435076Z"
    }
   },
   "cell_type": "code",
   "source": [
    "#5.2.2 - 1\n",
    "\n",
    "A = np.array([[-1, 2],[3, -5]], dtype=int)\n",
    "B = np.array([[2, 0],[-1, 4]], dtype=int)\n",
    "\n",
    "print(f'2A + 3B: \\n{2*A + 3*B}')\n",
    "\n",
    "print(f'A-B: \\n{A - B}')"
   ],
   "id": "20f0411d6d3b5a0c",
   "outputs": [
    {
     "name": "stdout",
     "output_type": "stream",
     "text": [
      "2A + 3B: \n",
      "[[4 4]\n",
      " [3 2]]\n",
      "A-B: \n",
      "[[-3  2]\n",
      " [ 4 -9]]\n"
     ]
    }
   ],
   "execution_count": 6
  },
  {
   "metadata": {
    "ExecuteTime": {
     "end_time": "2025-02-23T19:20:37.257570Z",
     "start_time": "2025-02-23T19:20:37.241233Z"
    }
   },
   "cell_type": "code",
   "source": [
    "#5.2.2 - 2\n",
    "\n",
    "A = np.array([[-1, 1, -3],[-1, 5, 2],[-4, 2, 1]], dtype=int)\n",
    "B = np.array([[-2, 2, -3],[-7, 4, 3],[4, 6, 1]], dtype=int)\n",
    "\n",
    "print(f'A - B: \\n{A - B}')\n",
    "print(f'B - A: \\n{B - A}')\n",
    "print(f'2A + 5B: \\n{2*A+5*B}')"
   ],
   "id": "90f3972e1b3d66d",
   "outputs": [
    {
     "name": "stdout",
     "output_type": "stream",
     "text": [
      "A - B: \n",
      "[[ 1 -1  0]\n",
      " [ 6  1 -1]\n",
      " [-8 -4  0]]\n",
      "B - A: \n",
      "[[-1  1  0]\n",
      " [-6 -1  1]\n",
      " [ 8  4  0]]\n",
      "2A + 5B: \n",
      "[[-12  12 -21]\n",
      " [-37  30  19]\n",
      " [ 12  34   7]]\n"
     ]
    }
   ],
   "execution_count": 7
  },
  {
   "metadata": {
    "ExecuteTime": {
     "end_time": "2025-02-23T20:07:18.530103Z",
     "start_time": "2025-02-23T20:07:18.456962Z"
    }
   },
   "cell_type": "code",
   "source": [
    "#8.1.1\n",
    "\n",
    "print('8.1.1')\n",
    "# (v\n",
    "E = [2*x - 3*y - 5, 7*x + y - 3]\n",
    "print('v:',sp.solve(E,[x, y]))\n",
    "\n",
    "# (a\n",
    "E = [2*x + 3*y - 11, 7*x - y - 4]\n",
    "print('a:',sp.solve(E,[x,y]))\n",
    "\n",
    "#8.1.2\n",
    "print('8.1.2')\n",
    "# (v1\n",
    "E = [3*x - y + 5*z - 2, 7*x + 2*y + 3*z - 9, 4*x + y -7*z - 5]\n",
    "print('v1:',sp.solve(E,[x, y, z]))\n",
    "\n",
    "# (a\n",
    "E = [2*x + y -3*z - 5, -3*x - y + 2*z - -7, 5*x + 2*y -4*z - 12]\n",
    "print('a:',sp.solve(E,[x, y, z]))\n",
    "\n",
    "#8.1.3\n",
    "print('8.1.3')\n",
    "# (v1\n",
    "E = [x + y + z - 3, 2*x + y - z - 2, 4*x + 3*y + z - 5]\n",
    "print('v1:',determinant_matrix_solve(E,[x, y, z]))\n",
    "\n",
    "# (v2\n",
    "E = [x + y + z - 3, 2*x + y - z - 2, 4*x + 3*y + z - 8]\n",
    "print('v2:',determinant_matrix_solve(E,[x, y, z]))\n",
    "\n",
    "# (a\n",
    "E = [2*x + y -3*z - 5, -3*x - y + 2*z - -7, 5*x + 2*y -5*z - 12]\n",
    "print('a:',determinant_matrix_solve(E,[x, y, z]))\n",
    "\n",
    "# (b\n",
    "E = [2*x + y -3*z - 5, -3*x - y + 2*z - -7, 5*x + 2*y -5*z - 11]\n",
    "print('b:',determinant_matrix_solve(E,[x, y, z]))"
   ],
   "id": "c745060c8f509591",
   "outputs": [
    {
     "name": "stdout",
     "output_type": "stream",
     "text": [
      "8.1.1\n",
      "v: {x: 14/23, y: -29/23}\n",
      "a: {x: 1, y: 3}\n",
      "8.1.2\n",
      "v1: {x: 1, y: 1, z: 0}\n",
      "a: {x: 2, y: 1, z: 0}\n",
      "8.1.3\n",
      "v1: No solutions.\n",
      "v2: {x: 2*z - 1, y: 4 - 3*z}\n",
      "a: {x: 2 - z, y: 5*z + 1}\n",
      "b: No solutions.\n"
     ]
    }
   ],
   "execution_count": 62
  }
 ],
 "metadata": {
  "kernelspec": {
   "display_name": "Python 3",
   "language": "python",
   "name": "python3"
  },
  "language_info": {
   "codemirror_mode": {
    "name": "ipython",
    "version": 2
   },
   "file_extension": ".py",
   "mimetype": "text/x-python",
   "name": "python",
   "nbconvert_exporter": "python",
   "pygments_lexer": "ipython2",
   "version": "2.7.6"
  }
 },
 "nbformat": 4,
 "nbformat_minor": 5
}
